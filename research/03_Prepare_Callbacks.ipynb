{
 "cells": [
  {
   "cell_type": "code",
   "execution_count": 1,
   "metadata": {},
   "outputs": [],
   "source": [
    "import os\n"
   ]
  },
  {
   "cell_type": "code",
   "execution_count": 3,
   "metadata": {},
   "outputs": [
    {
     "data": {
      "text/plain": [
       "'d:\\\\end to end 2\\\\Chicken-Disease-end-to-end-\\\\research'"
      ]
     },
     "execution_count": 3,
     "metadata": {},
     "output_type": "execute_result"
    }
   ],
   "source": [
    "%pwd"
   ]
  },
  {
   "cell_type": "code",
   "execution_count": 4,
   "metadata": {},
   "outputs": [],
   "source": [
    "os.chdir(\"../\")"
   ]
  },
  {
   "cell_type": "code",
   "execution_count": 5,
   "metadata": {},
   "outputs": [
    {
     "data": {
      "text/plain": [
       "'d:\\\\end to end 2\\\\Chicken-Disease-end-to-end-'"
      ]
     },
     "execution_count": 5,
     "metadata": {},
     "output_type": "execute_result"
    }
   ],
   "source": [
    "%pwd"
   ]
  },
  {
   "cell_type": "code",
   "execution_count": 52,
   "metadata": {},
   "outputs": [],
   "source": [
    "#first prepapring confgi yaml\n",
    "#Entity\n",
    "from dataclasses import dataclass\n",
    "from pathlib import Path\n",
    "\n",
    "\n",
    "@dataclass(frozen=True)\n",
    "class PrepareCallbacksConfig:\n",
    "    root_dir: Path\n",
    "    tensorboard_root_dir: Path\n",
    "    checkpoint_model_path: Path\n",
    "\n",
    "    \n",
    "\n"
   ]
  },
  {
   "cell_type": "code",
   "execution_count": 53,
   "metadata": {},
   "outputs": [],
   "source": [
    "from cnnClassfier.constants import *\n",
    "from cnnClassfier.utils.common import read_yaml, create_directories\n"
   ]
  },
  {
   "cell_type": "code",
   "execution_count": 54,
   "metadata": {},
   "outputs": [],
   "source": [
    "class ConfigurtaionManager:\n",
    "    def __init__(self,\n",
    "                 config_filepath= CONFIG_FILE_PATH,\n",
    "                 params_filepath=PARAMS_FILE_PATH):\n",
    "        self.config=read_yaml(config_filepath)\n",
    "        self.params=read_yaml(params_filepath)\n",
    "        create_directories([self.config.artifacts_root])\n",
    "        \n",
    "    def get_prepare_callbacks_config(self) ->PrepareCallbacksConfig:\n",
    "        config= self.config.prepare_callbacks\n",
    "        model_ckpt_dir = os.path.dirname(config.check_point_model_path)\n",
    "        create_directories([\n",
    "            Path(model_ckpt_dir),\n",
    "            Path(config.tensorboard_root_dir)\n",
    "\n",
    "        ])\n",
    "        prepare_callback_config= PrepareCallbacksConfig(\n",
    "         root_dir= Path(config.root_dir),\n",
    "         tensorboard_root_dir= Path(config.tensorboard_root_dir),\n",
    "         checkpoint_model_path=config.check_point_model_path\n",
    "            )\n",
    "        return prepare_callback_config\n"
   ]
  },
  {
   "cell_type": "code",
   "execution_count": 55,
   "metadata": {},
   "outputs": [
    {
     "name": "stdout",
     "output_type": "stream",
     "text": [
      "<function ConfigurtaionManager.get_prepare_callbacks_config at 0x00000211CF281E10>\n"
     ]
    }
   ],
   "source": [
    "config=ConfigurtaionManager\n",
    "print(config.get_prepare_callbacks_config)\n"
   ]
  },
  {
   "cell_type": "code",
   "execution_count": 49,
   "metadata": {},
   "outputs": [],
   "source": [
    "import os\n",
    "import urllib.request as request\n",
    "from zipfile import ZipFile\n",
    "import tensorflow as tf \n",
    "import time"
   ]
  },
  {
   "cell_type": "code",
   "execution_count": 58,
   "metadata": {},
   "outputs": [],
   "source": [
    "class PrepareCallback:\n",
    "    def __init__(self, config : PrepareCallbacksConfig):\n",
    "        self.config= config\n",
    "        \n",
    "\n",
    "    @property\n",
    "    def _create_tb_callbacks(self):\n",
    "            timestamp= time.strftime(\"%Y-%m-d-%H-%M-%S\")\n",
    "            tb_running_log_dir = os.path.join(\n",
    "            self.config.tensorboard_root_dir,\n",
    "            f\"tb_logs_at_{timestamp}\",\n",
    "\n",
    "\n",
    "\n",
    "\n",
    "            )\n",
    "            return tf.keras.callbacks.TensorBoard(log_dir=tb_running_log_dir)\n",
    "        \n",
    "    @property\n",
    "    def _create_ckpt_callbacks(self):\n",
    "            return tf.keras.callbacks.ModelCheckpoint(filepath=self.config.checkpoint_model_path,\n",
    "                                                      save_best_only=True)\n",
    "        \n",
    "\n",
    "    def get_tb_ckpt_callbacks(self):\n",
    "            return[\n",
    "                self._create_tb_callbacks,\n",
    "                self._create_ckpt_callbacks\n",
    "            ]\n",
    "             "
   ]
  },
  {
   "cell_type": "code",
   "execution_count": 59,
   "metadata": {},
   "outputs": [
    {
     "name": "stdout",
     "output_type": "stream",
     "text": [
      "[2024-04-07 06:09:54,347: INFO: common: yaml file config\\config.yaml load sucessfuly]\n",
      "[2024-04-07 06:09:54,351: INFO: common: yaml file params.yaml load sucessfuly]\n",
      "[2024-04-07 06:09:54,352: INFO: common: created dierctor ast artifacts]\n",
      "[2024-04-07 06:09:54,354: INFO: common: created dierctor ast artifacts\\prepare_callbacks\\checkpoint_dir]\n",
      "[2024-04-07 06:09:54,355: INFO: common: created dierctor ast artifacts\\prepare_callbacks\\tensorboard_log_dir]\n"
     ]
    }
   ],
   "source": [
    "try:\n",
    "    config=ConfigurtaionManager()\n",
    "    preparecallback_config=config.get_prepare_callbacks_config()\n",
    "    preparecallbacks=PrepareCallback(config=preparecallback_config)\n",
    "    callback_list=preparecallbacks.get_tb_ckpt_callbacks()\n",
    "\n",
    "\n",
    "except Exception as e:\n",
    "    raise e   "
   ]
  },
  {
   "cell_type": "code",
   "execution_count": null,
   "metadata": {},
   "outputs": [],
   "source": []
  },
  {
   "cell_type": "code",
   "execution_count": null,
   "metadata": {},
   "outputs": [],
   "source": []
  }
 ],
 "metadata": {
  "kernelspec": {
   "display_name": "fazal",
   "language": "python",
   "name": "python3"
  },
  "language_info": {
   "codemirror_mode": {
    "name": "ipython",
    "version": 3
   },
   "file_extension": ".py",
   "mimetype": "text/x-python",
   "name": "python",
   "nbconvert_exporter": "python",
   "pygments_lexer": "ipython3",
   "version": "3.10.9"
  }
 },
 "nbformat": 4,
 "nbformat_minor": 2
}
